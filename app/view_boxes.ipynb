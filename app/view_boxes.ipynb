{
 "cells": [
  {
   "cell_type": "code",
   "execution_count": null,
   "id": "619bca2c-9595-4468-a902-ec0ff4b34259",
   "metadata": {},
   "outputs": [],
   "source": [
    "def process_box_file(file_path):\n",
    "    with open(file_path, 'r') as file:\n",
    "        file_content = file.read()\n",
    "\n",
    "    lines = file_content.strip().split('\\n')\n",
    "    processed_lines = []\n",
    "    for line in lines:\n",
    "        if line:\n",
    "            processed_data = tuple(line[1:-1].split())\n",
    "            processed_lines.append(processed_data)\n",
    "\n",
    "    return processed_lines"
   ]
  },
  {
   "cell_type": "code",
   "execution_count": null,
   "id": "5f0dc788-851b-4801-9b1c-c502ccae145f",
   "metadata": {},
   "outputs": [],
   "source": [
    "import glob\n",
    "import os\n",
    "def read_all_box_files(directory):\n",
    "    # Create a pattern for .box files\n",
    "    pattern = f\"{directory}/*.box\"\n",
    "    # Find all .box files in the directory\n",
    "    box_files = sorted(glob.glob(pattern), key=os.path.basename)\n",
    "\n",
    "    # Process each .box file\n",
    "    all_data = []\n",
    "    for file_path in box_files:\n",
    "        file_data = process_box_file(file_path)\n",
    "        all_data.append(file_data)\n",
    "\n",
    "    return all_data\n"
   ]
  },
  {
   "cell_type": "code",
   "execution_count": null,
   "id": "dc0df7af-625c-4415-bd7a-780a97ee00b5",
   "metadata": {},
   "outputs": [],
   "source": [
    "import cv2\n",
    "import glob\n",
    "import os\n",
    "\n",
    "def read_and_sort_png_files(directory):\n",
    "    # Create a pattern for .png files\n",
    "    pattern = os.path.join(directory, \"*.png\")\n",
    "\n",
    "    # Find all .png files in the directory and sort them\n",
    "    png_files = sorted(glob.glob(pattern), key=os.path.basename)\n",
    "\n",
    "    # Read each .png file using OpenCV\n",
    "    images = []\n",
    "    for file_path in png_files:\n",
    "        image = cv2.imread(file_path)\n",
    "        images.append(image)\n",
    "\n",
    "    return images"
   ]
  },
  {
   "cell_type": "code",
   "execution_count": null,
   "id": "df29df02-ee09-4294-8ac5-b9c4f8bf6b61",
   "metadata": {},
   "outputs": [],
   "source": [
    "def draw_boxes_on_images(box_directory, image_directory):\n",
    "    # Read .box and .png files\n",
    "    box_data = read_all_box_files(box_directory)\n",
    "    images = read_and_sort_png_files(image_directory)\n",
    "\n",
    "    # Ensure that the number of .box files and .png files are the same\n",
    "    if len(box_data) != len(images):\n",
    "        raise ValueError(\"Number of .box files and .png files does not match\")\n",
    "\n",
    "    # Iterate over both arrays simultaneously\n",
    "    for boxes, image in zip(box_data, images):\n",
    "        for box in boxes:\n",
    "            # Parse box coordinates (assuming they are integers)\n",
    "            x, y, w, h = map(int, box)\n",
    "            # Draw a rectangle on the image\n",
    "            cv2.rectangle(image, (x, y), (x + w, y + h), (0, 255, 0), 2)\n",
    "\n",
    "        view(image)"
   ]
  },
  {
   "cell_type": "code",
   "execution_count": null,
   "id": "23e5ce36-742a-4156-950c-269b42033ae3",
   "metadata": {},
   "outputs": [],
   "source": [
    "draw_boxes_on_images('tesstrain/data/alg-ground-truth', 'tesstrain/data/alg-ground-truth')"
   ]
  }
 ],
 "metadata": {
  "kernelspec": {
   "display_name": "Python 3 (ipykernel)",
   "language": "python",
   "name": "python3"
  },
  "language_info": {
   "codemirror_mode": {
    "name": "ipython",
    "version": 3
   },
   "file_extension": ".py",
   "mimetype": "text/x-python",
   "name": "python",
   "nbconvert_exporter": "python",
   "pygments_lexer": "ipython3",
   "version": "3.9.18"
  }
 },
 "nbformat": 4,
 "nbformat_minor": 5
}
